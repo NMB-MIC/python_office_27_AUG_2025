{
 "cells": [
  {
   "cell_type": "markdown",
   "id": "8f15e241",
   "metadata": {},
   "source": [
    "# 2 Pandas"
   ]
  },
  {
   "cell_type": "code",
   "execution_count": 1,
   "id": "25a6b7b0",
   "metadata": {},
   "outputs": [],
   "source": [
    "import pandas as pd"
   ]
  },
  {
   "cell_type": "code",
   "execution_count": 3,
   "id": "33d169e9",
   "metadata": {},
   "outputs": [
    {
     "name": "stdout",
     "output_type": "stream",
     "text": [
      "       Name  Age Sex\n",
      "0  Suraphop   30   M\n",
      "1     Linda   25   F\n",
      "2      John   35   M\n",
      "<class 'pandas.core.frame.DataFrame'>\n"
     ]
    }
   ],
   "source": [
    "df = pd.DataFrame({\n",
    "    \"Name\" : [\"Suraphop\",\"Linda\",\"John\"],\n",
    "    \"Age\" : [30,25,35],\n",
    "    \"Sex\" : [\"M\",\"F\",\"M\"]\n",
    "})\n",
    "print(df)\n",
    "print(type(df))"
   ]
  },
  {
   "cell_type": "code",
   "execution_count": 10,
   "id": "ab91d141",
   "metadata": {},
   "outputs": [
    {
     "name": "stdout",
     "output_type": "stream",
     "text": [
      "dataframe\n"
     ]
    },
    {
     "data": {
      "text/html": [
       "<div>\n",
       "<style scoped>\n",
       "    .dataframe tbody tr th:only-of-type {\n",
       "        vertical-align: middle;\n",
       "    }\n",
       "\n",
       "    .dataframe tbody tr th {\n",
       "        vertical-align: top;\n",
       "    }\n",
       "\n",
       "    .dataframe thead th {\n",
       "        text-align: right;\n",
       "    }\n",
       "</style>\n",
       "<table border=\"1\" class=\"dataframe\">\n",
       "  <thead>\n",
       "    <tr style=\"text-align: right;\">\n",
       "      <th></th>\n",
       "      <th>name</th>\n",
       "      <th>age</th>\n",
       "      <th>country</th>\n",
       "      <th>score</th>\n",
       "      <th>continent</th>\n",
       "    </tr>\n",
       "  </thead>\n",
       "  <tbody>\n",
       "    <tr>\n",
       "      <th>0</th>\n",
       "      <td>Mark</td>\n",
       "      <td>55</td>\n",
       "      <td>Italy</td>\n",
       "      <td>4.5</td>\n",
       "      <td>Europe</td>\n",
       "    </tr>\n",
       "    <tr>\n",
       "      <th>1</th>\n",
       "      <td>john</td>\n",
       "      <td>33</td>\n",
       "      <td>USA</td>\n",
       "      <td>6.9</td>\n",
       "      <td>America</td>\n",
       "    </tr>\n",
       "    <tr>\n",
       "      <th>2</th>\n",
       "      <td>tim</td>\n",
       "      <td>41</td>\n",
       "      <td>USA</td>\n",
       "      <td>3.9</td>\n",
       "      <td>America</td>\n",
       "    </tr>\n",
       "  </tbody>\n",
       "</table>\n",
       "</div>"
      ],
      "text/plain": [
       "   name  age country  score continent\n",
       "0  Mark   55   Italy    4.5    Europe\n",
       "1  john   33     USA    6.9   America\n",
       "2   tim   41     USA    3.9   America"
      ]
     },
     "execution_count": 10,
     "metadata": {},
     "output_type": "execute_result"
    }
   ],
   "source": [
    "datas = [[\"Mark\",55,\"Italy\",4.5,\"Europe\"],\n",
    "         [\"john\",33,\"USA\",6.9,\"America\"],\n",
    "         [\"tim\",41,\"USA\",3.9,\"America\"]]\n",
    "columns = [\"name\",\"age\",\"country\",\"score\",\"continent\"]\n",
    "\n",
    "df = pd.DataFrame(data=datas,columns=columns)\n",
    "print('dataframe')\n",
    "df"
   ]
  },
  {
   "cell_type": "markdown",
   "id": "35137e77",
   "metadata": {},
   "source": [
    "## 2.2 Input"
   ]
  },
  {
   "cell_type": "markdown",
   "id": "4b104481",
   "metadata": {},
   "source": [
    "### 1.2.1 csv and excel"
   ]
  },
  {
   "cell_type": "code",
   "execution_count": null,
   "id": "5b39ae7b",
   "metadata": {},
   "outputs": [],
   "source": [
    "df = pd.read_csv()"
   ]
  }
 ],
 "metadata": {
  "kernelspec": {
   "display_name": "python_office",
   "language": "python",
   "name": "python3"
  },
  "language_info": {
   "codemirror_mode": {
    "name": "ipython",
    "version": 3
   },
   "file_extension": ".py",
   "mimetype": "text/x-python",
   "name": "python",
   "nbconvert_exporter": "python",
   "pygments_lexer": "ipython3",
   "version": "3.12.0"
  }
 },
 "nbformat": 4,
 "nbformat_minor": 5
}
