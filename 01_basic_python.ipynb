{
 "cells": [
  {
   "cell_type": "markdown",
   "id": "9ba5d1a9",
   "metadata": {},
   "source": [
    "# Basic Python"
   ]
  },
  {
   "cell_type": "code",
   "execution_count": 1,
   "id": "22bacc7a",
   "metadata": {},
   "outputs": [
    {
     "name": "stdout",
     "output_type": "stream",
     "text": [
      "Hello world\n"
     ]
    }
   ],
   "source": [
    "print(\"Hello world\")"
   ]
  },
  {
   "cell_type": "markdown",
   "id": "bb12329c",
   "metadata": {},
   "source": [
    "## 1.1 Variables"
   ]
  },
  {
   "cell_type": "code",
   "execution_count": 3,
   "id": "f75c0d01",
   "metadata": {},
   "outputs": [
    {
     "name": "stdout",
     "output_type": "stream",
     "text": [
      "hello world\n",
      "hell world2\n"
     ]
    }
   ],
   "source": [
    "msg = \"hello world\"\n",
    "print(msg)\n",
    "\n",
    "msg = \"hell world2\"\n",
    "print(msg)"
   ]
  },
  {
   "cell_type": "code",
   "execution_count": null,
   "id": "e65548c3",
   "metadata": {},
   "outputs": [],
   "source": [
    "name = \"suraphop\"\n",
    "first_name = \"Suraphop\" "
   ]
  },
  {
   "cell_type": "code",
   "execution_count": null,
   "id": "e9d39508",
   "metadata": {},
   "outputs": [],
   "source": [
    "firstName = \"suraphop\" #calmel case "
   ]
  },
  {
   "cell_type": "code",
   "execution_count": null,
   "id": "02d380ee",
   "metadata": {},
   "outputs": [],
   "source": [
    "#รหัสพนักงาน \n",
    "\n",
    "emp_id = \"J6639\"\n",
    "emp = \"J6639\"\n",
    "id = \"J6639\"\n",
    "\n",
    "emp_no = \"J6639\"\n",
    "emp_number = \"J6639\"\n",
    "employee_number = \"J6639\""
   ]
  },
  {
   "cell_type": "code",
   "execution_count": 6,
   "id": "e4509650",
   "metadata": {},
   "outputs": [],
   "source": [
    "#legal\n",
    "\n",
    "#1name = \"suraphop\"\n",
    "name_1 = \"suraphop\"\n",
    "#$name = \"suraphop\""
   ]
  },
  {
   "cell_type": "markdown",
   "id": "2c0f5cfe",
   "metadata": {},
   "source": [
    "## 1.2 Data Types"
   ]
  },
  {
   "cell_type": "markdown",
   "id": "884fcad6",
   "metadata": {},
   "source": [
    "1.2.1 Numberic"
   ]
  },
  {
   "cell_type": "code",
   "execution_count": 10,
   "id": "99cdbc8a",
   "metadata": {},
   "outputs": [
    {
     "name": "stdout",
     "output_type": "stream",
     "text": [
      "41\n"
     ]
    }
   ],
   "source": [
    "msg = \"hello world\"\n",
    "msg = \"4\"\n",
    "\n",
    "#print(type(msg))\n",
    "\n",
    "#print(msg+1)\n",
    "\n",
    "print(msg+\"1\")"
   ]
  },
  {
   "cell_type": "code",
   "execution_count": 12,
   "id": "1996b5bd",
   "metadata": {},
   "outputs": [
    {
     "name": "stdout",
     "output_type": "stream",
     "text": [
      "<class 'int'>\n",
      "5\n"
     ]
    }
   ],
   "source": [
    "msg = 4\n",
    "print(type(msg))\n",
    "print(msg+1)"
   ]
  },
  {
   "cell_type": "code",
   "execution_count": 15,
   "id": "d270571a",
   "metadata": {},
   "outputs": [
    {
     "name": "stdout",
     "output_type": "stream",
     "text": [
      "<class 'int'>\n"
     ]
    }
   ],
   "source": [
    "msg = \"4\"\n",
    "\n",
    "msg_int = int(msg)\n",
    "print(type(msg_int))"
   ]
  },
  {
   "cell_type": "code",
   "execution_count": 16,
   "id": "8486bc7c",
   "metadata": {},
   "outputs": [
    {
     "ename": "ValueError",
     "evalue": "invalid literal for int() with base 10: 'suraphop'",
     "output_type": "error",
     "traceback": [
      "\u001b[31m---------------------------------------------------------------------------\u001b[39m",
      "\u001b[31mValueError\u001b[39m                                Traceback (most recent call last)",
      "\u001b[36mCell\u001b[39m\u001b[36m \u001b[39m\u001b[32mIn[16]\u001b[39m\u001b[32m, line 3\u001b[39m\n\u001b[32m      1\u001b[39m msg = \u001b[33m\"\u001b[39m\u001b[33msuraphop\u001b[39m\u001b[33m\"\u001b[39m\n\u001b[32m----> \u001b[39m\u001b[32m3\u001b[39m msg_int = \u001b[38;5;28;43mint\u001b[39;49m\u001b[43m(\u001b[49m\u001b[43mmsg\u001b[49m\u001b[43m)\u001b[49m\n\u001b[32m      4\u001b[39m \u001b[38;5;28mprint\u001b[39m(\u001b[38;5;28mtype\u001b[39m(msg_int))\n",
      "\u001b[31mValueError\u001b[39m: invalid literal for int() with base 10: 'suraphop'"
     ]
    }
   ],
   "source": [
    "msg = \"suraphop\"\n",
    "\n",
    "msg_int = int(msg)\n",
    "print(type(msg_int))"
   ]
  }
 ],
 "metadata": {
  "kernelspec": {
   "display_name": "python_office",
   "language": "python",
   "name": "python3"
  },
  "language_info": {
   "codemirror_mode": {
    "name": "ipython",
    "version": 3
   },
   "file_extension": ".py",
   "mimetype": "text/x-python",
   "name": "python",
   "nbconvert_exporter": "python",
   "pygments_lexer": "ipython3",
   "version": "3.12.0"
  }
 },
 "nbformat": 4,
 "nbformat_minor": 5
}
