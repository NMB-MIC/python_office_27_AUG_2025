{
 "cells": [
  {
   "cell_type": "markdown",
   "id": "9ba5d1a9",
   "metadata": {},
   "source": [
    "# Basic Python"
   ]
  },
  {
   "cell_type": "code",
   "execution_count": 1,
   "id": "22bacc7a",
   "metadata": {},
   "outputs": [
    {
     "name": "stdout",
     "output_type": "stream",
     "text": [
      "Hello world\n"
     ]
    }
   ],
   "source": [
    "print(\"Hello world\")"
   ]
  },
  {
   "cell_type": "markdown",
   "id": "bb12329c",
   "metadata": {},
   "source": [
    "## 1.1 Variables"
   ]
  },
  {
   "cell_type": "code",
   "execution_count": 3,
   "id": "f75c0d01",
   "metadata": {},
   "outputs": [
    {
     "name": "stdout",
     "output_type": "stream",
     "text": [
      "hello world\n",
      "hell world2\n"
     ]
    }
   ],
   "source": [
    "msg = \"hello world\"\n",
    "print(msg)\n",
    "\n",
    "msg = \"hell world2\"\n",
    "print(msg)"
   ]
  },
  {
   "cell_type": "code",
   "execution_count": null,
   "id": "e65548c3",
   "metadata": {},
   "outputs": [],
   "source": [
    "name = \"suraphop\"\n",
    "first_name = \"Suraphop\" "
   ]
  },
  {
   "cell_type": "code",
   "execution_count": null,
   "id": "e9d39508",
   "metadata": {},
   "outputs": [],
   "source": [
    "firstName = \"suraphop\" #calmel case "
   ]
  },
  {
   "cell_type": "code",
   "execution_count": null,
   "id": "02d380ee",
   "metadata": {},
   "outputs": [],
   "source": [
    "#รหัสพนักงาน \n",
    "\n",
    "emp_id = \"J6639\"\n",
    "emp = \"J6639\"\n",
    "id = \"J6639\"\n",
    "\n",
    "emp_no = \"J6639\"\n",
    "emp_number = \"J6639\"\n",
    "employee_number = \"J6639\""
   ]
  },
  {
   "cell_type": "code",
   "execution_count": 6,
   "id": "e4509650",
   "metadata": {},
   "outputs": [],
   "source": [
    "#legal\n",
    "\n",
    "#1name = \"suraphop\"\n",
    "name_1 = \"suraphop\"\n",
    "#$name = \"suraphop\""
   ]
  },
  {
   "cell_type": "markdown",
   "id": "2c0f5cfe",
   "metadata": {},
   "source": [
    "## 1.2 Data Types"
   ]
  },
  {
   "cell_type": "markdown",
   "id": "884fcad6",
   "metadata": {},
   "source": [
    "1.2.1 Numberic"
   ]
  },
  {
   "cell_type": "code",
   "execution_count": 10,
   "id": "99cdbc8a",
   "metadata": {},
   "outputs": [
    {
     "name": "stdout",
     "output_type": "stream",
     "text": [
      "41\n"
     ]
    }
   ],
   "source": [
    "msg = \"hello world\"\n",
    "msg = \"4\"\n",
    "\n",
    "#print(type(msg))\n",
    "\n",
    "#print(msg+1)\n",
    "\n",
    "print(msg+\"1\")"
   ]
  },
  {
   "cell_type": "code",
   "execution_count": 12,
   "id": "1996b5bd",
   "metadata": {},
   "outputs": [
    {
     "name": "stdout",
     "output_type": "stream",
     "text": [
      "<class 'int'>\n",
      "5\n"
     ]
    }
   ],
   "source": [
    "msg = 4\n",
    "print(type(msg))\n",
    "print(msg+1)"
   ]
  },
  {
   "cell_type": "code",
   "execution_count": 15,
   "id": "d270571a",
   "metadata": {},
   "outputs": [
    {
     "name": "stdout",
     "output_type": "stream",
     "text": [
      "<class 'int'>\n"
     ]
    }
   ],
   "source": [
    "msg = \"4\"\n",
    "\n",
    "msg_int = int(msg)\n",
    "print(type(msg_int))"
   ]
  },
  {
   "cell_type": "code",
   "execution_count": 16,
   "id": "8486bc7c",
   "metadata": {},
   "outputs": [
    {
     "ename": "ValueError",
     "evalue": "invalid literal for int() with base 10: 'suraphop'",
     "output_type": "error",
     "traceback": [
      "\u001b[31m---------------------------------------------------------------------------\u001b[39m",
      "\u001b[31mValueError\u001b[39m                                Traceback (most recent call last)",
      "\u001b[36mCell\u001b[39m\u001b[36m \u001b[39m\u001b[32mIn[16]\u001b[39m\u001b[32m, line 3\u001b[39m\n\u001b[32m      1\u001b[39m msg = \u001b[33m\"\u001b[39m\u001b[33msuraphop\u001b[39m\u001b[33m\"\u001b[39m\n\u001b[32m----> \u001b[39m\u001b[32m3\u001b[39m msg_int = \u001b[38;5;28;43mint\u001b[39;49m\u001b[43m(\u001b[49m\u001b[43mmsg\u001b[49m\u001b[43m)\u001b[49m\n\u001b[32m      4\u001b[39m \u001b[38;5;28mprint\u001b[39m(\u001b[38;5;28mtype\u001b[39m(msg_int))\n",
      "\u001b[31mValueError\u001b[39m: invalid literal for int() with base 10: 'suraphop'"
     ]
    }
   ],
   "source": [
    "msg = \"suraphop\"\n",
    "\n",
    "msg_int = int(msg)\n",
    "print(type(msg_int))"
   ]
  },
  {
   "cell_type": "code",
   "execution_count": 18,
   "id": "135c4a06",
   "metadata": {},
   "outputs": [
    {
     "name": "stdout",
     "output_type": "stream",
     "text": [
      "<class 'float'>\n",
      "8.4\n"
     ]
    }
   ],
   "source": [
    "msg = 4.4 \n",
    "print(type(msg)) \n",
    "\n",
    "\n",
    "print(4+msg) \n"
   ]
  },
  {
   "cell_type": "markdown",
   "id": "a7ed7c03",
   "metadata": {},
   "source": [
    "1.2.1 Operator"
   ]
  },
  {
   "cell_type": "code",
   "execution_count": 19,
   "id": "f6f4d14d",
   "metadata": {},
   "outputs": [
    {
     "data": {
      "text/plain": [
       "7"
      ]
     },
     "execution_count": 19,
     "metadata": {},
     "output_type": "execute_result"
    }
   ],
   "source": [
    "3+4"
   ]
  },
  {
   "cell_type": "code",
   "execution_count": 20,
   "id": "c25353d0",
   "metadata": {},
   "outputs": [
    {
     "data": {
      "text/plain": [
       "-1"
      ]
     },
     "execution_count": 20,
     "metadata": {},
     "output_type": "execute_result"
    }
   ],
   "source": [
    "3-4"
   ]
  },
  {
   "cell_type": "code",
   "execution_count": 21,
   "id": "7afc0693",
   "metadata": {},
   "outputs": [
    {
     "data": {
      "text/plain": [
       "12"
      ]
     },
     "execution_count": 21,
     "metadata": {},
     "output_type": "execute_result"
    }
   ],
   "source": [
    "4*3"
   ]
  },
  {
   "cell_type": "code",
   "execution_count": 26,
   "id": "33bc7eed",
   "metadata": {},
   "outputs": [
    {
     "data": {
      "text/plain": [
       "1.6666666666666667"
      ]
     },
     "execution_count": 26,
     "metadata": {},
     "output_type": "execute_result"
    }
   ],
   "source": [
    "5/3"
   ]
  },
  {
   "cell_type": "code",
   "execution_count": 25,
   "id": "5d35c4a1",
   "metadata": {},
   "outputs": [
    {
     "name": "stdout",
     "output_type": "stream",
     "text": [
      "1.67\n",
      "1.667\n"
     ]
    }
   ],
   "source": [
    "print(round(5/3,2))\n",
    "print(round(5/3,3))"
   ]
  },
  {
   "cell_type": "code",
   "execution_count": 27,
   "id": "0515cc28",
   "metadata": {},
   "outputs": [
    {
     "data": {
      "text/plain": [
       "81"
      ]
     },
     "execution_count": 27,
     "metadata": {},
     "output_type": "execute_result"
    }
   ],
   "source": [
    "3**4"
   ]
  },
  {
   "cell_type": "code",
   "execution_count": 28,
   "id": "5bc63ee8",
   "metadata": {},
   "outputs": [
    {
     "data": {
      "text/plain": [
       "21"
      ]
     },
     "execution_count": 28,
     "metadata": {},
     "output_type": "execute_result"
    }
   ],
   "source": [
    "3 * (3+4)"
   ]
  },
  {
   "cell_type": "markdown",
   "id": "49535a57",
   "metadata": {},
   "source": [
    "1.2.2 String"
   ]
  },
  {
   "cell_type": "code",
   "execution_count": 35,
   "id": "46d22000",
   "metadata": {},
   "outputs": [
    {
     "name": "stdout",
     "output_type": "stream",
     "text": [
      "hello world\n",
      "hello world\n",
      "This 's easy to learn python\n",
      "This \"s easy to learn python\n"
     ]
    }
   ],
   "source": [
    "msg = \"hello world\"\n",
    "print(msg)\n",
    "msg = 'hello world'\n",
    "print(msg)\n",
    "\n",
    "\n",
    "#print('This 's easy to learn python')\n",
    "print(\"This 's easy to learn python\")\n",
    "print('This \"s easy to learn python')"
   ]
  },
  {
   "cell_type": "code",
   "execution_count": null,
   "id": "0bcefc01",
   "metadata": {},
   "outputs": [
    {
     "name": "stdout",
     "output_type": "stream",
     "text": [
      "helloworld\n",
      "hello world\n",
      "hello world\n"
     ]
    }
   ],
   "source": [
    "# adding string \n",
    "\n",
    "msg_1 = \"hello\"\n",
    "msg_2 = \"world\"\n",
    "\n",
    "print(msg_1 + msg_2)\n",
    "print(msg_1 +\" \"+msg_2) \n",
    "print(f\"{msg_1} {msg_2}\") # f-function string"
   ]
  },
  {
   "cell_type": "code",
   "execution_count": 39,
   "id": "aa2bcc55",
   "metadata": {},
   "outputs": [
    {
     "data": {
      "text/plain": [
       "'python'"
      ]
     },
     "execution_count": 39,
     "metadata": {},
     "output_type": "execute_result"
    }
   ],
   "source": [
    "\"PYTHON\".lower()"
   ]
  },
  {
   "cell_type": "code",
   "execution_count": 40,
   "id": "241023d2",
   "metadata": {},
   "outputs": [
    {
     "data": {
      "text/plain": [
       "'PYTHON'"
      ]
     },
     "execution_count": 40,
     "metadata": {},
     "output_type": "execute_result"
    }
   ],
   "source": [
    "\"python\".upper()"
   ]
  },
  {
   "cell_type": "code",
   "execution_count": 41,
   "id": "a4fd0f21",
   "metadata": {},
   "outputs": [
    {
     "data": {
      "text/plain": [
       "'HELLO WORLD'"
      ]
     },
     "execution_count": 41,
     "metadata": {},
     "output_type": "execute_result"
    }
   ],
   "source": [
    "msg = \"Hello world\"\n",
    "msg.upper()"
   ]
  },
  {
   "cell_type": "markdown",
   "id": "1f7fbdec",
   "metadata": {},
   "source": [
    "1.2.3 Constant"
   ]
  },
  {
   "cell_type": "code",
   "execution_count": 44,
   "id": "a0390406",
   "metadata": {},
   "outputs": [
    {
     "name": "stdout",
     "output_type": "stream",
     "text": [
      "fahrenheit\n",
      "fahrenheit1\n"
     ]
    }
   ],
   "source": [
    "TEMPERATURE_SCALE = \"fahrenheit\"\n",
    "print(TEMPERATURE_SCALE)\n",
    "\n",
    "TEMPERATURE_SCALE = \"fahrenheit1\"\n",
    "print(TEMPERATURE_SCALE)"
   ]
  },
  {
   "cell_type": "markdown",
   "id": "255969be",
   "metadata": {},
   "source": [
    "## 1.3 Compareative(booleans) "
   ]
  },
  {
   "cell_type": "code",
   "execution_count": 45,
   "id": "0b6b6971",
   "metadata": {},
   "outputs": [
    {
     "data": {
      "text/plain": [
       "False"
      ]
     },
     "execution_count": 45,
     "metadata": {},
     "output_type": "execute_result"
    }
   ],
   "source": [
    "3==4"
   ]
  },
  {
   "cell_type": "code",
   "execution_count": 46,
   "id": "358c98d1",
   "metadata": {},
   "outputs": [
    {
     "data": {
      "text/plain": [
       "True"
      ]
     },
     "execution_count": 46,
     "metadata": {},
     "output_type": "execute_result"
    }
   ],
   "source": [
    "4==4"
   ]
  },
  {
   "cell_type": "code",
   "execution_count": 48,
   "id": "3449ed67",
   "metadata": {},
   "outputs": [
    {
     "name": "stdout",
     "output_type": "stream",
     "text": [
      "<class 'bool'>\n"
     ]
    }
   ],
   "source": [
    "print(type(3==4))"
   ]
  },
  {
   "cell_type": "code",
   "execution_count": 49,
   "id": "478425f5",
   "metadata": {},
   "outputs": [
    {
     "data": {
      "text/plain": [
       "True"
      ]
     },
     "execution_count": 49,
     "metadata": {},
     "output_type": "execute_result"
    }
   ],
   "source": [
    "3 != 4"
   ]
  },
  {
   "cell_type": "code",
   "execution_count": 50,
   "id": "92f892ef",
   "metadata": {},
   "outputs": [
    {
     "data": {
      "text/plain": [
       "True"
      ]
     },
     "execution_count": 50,
     "metadata": {},
     "output_type": "execute_result"
    }
   ],
   "source": [
    "3 < 4"
   ]
  },
  {
   "cell_type": "code",
   "execution_count": 51,
   "id": "ae99c638",
   "metadata": {},
   "outputs": [
    {
     "data": {
      "text/plain": [
       "True"
      ]
     },
     "execution_count": 51,
     "metadata": {},
     "output_type": "execute_result"
    }
   ],
   "source": [
    "3 <= 4"
   ]
  },
  {
   "cell_type": "code",
   "execution_count": 52,
   "id": "9a052b13",
   "metadata": {},
   "outputs": [
    {
     "data": {
      "text/plain": [
       "True"
      ]
     },
     "execution_count": 52,
     "metadata": {},
     "output_type": "execute_result"
    }
   ],
   "source": [
    "3 < 4 < 5 "
   ]
  },
  {
   "cell_type": "code",
   "execution_count": 53,
   "id": "f7bab53d",
   "metadata": {},
   "outputs": [
    {
     "data": {
      "text/plain": [
       "True"
      ]
     },
     "execution_count": 53,
     "metadata": {},
     "output_type": "execute_result"
    }
   ],
   "source": [
    "True"
   ]
  },
  {
   "cell_type": "code",
   "execution_count": 54,
   "id": "90e74141",
   "metadata": {},
   "outputs": [
    {
     "data": {
      "text/plain": [
       "False"
      ]
     },
     "execution_count": 54,
     "metadata": {},
     "output_type": "execute_result"
    }
   ],
   "source": [
    "False"
   ]
  },
  {
   "cell_type": "code",
   "execution_count": 55,
   "id": "161d19e2",
   "metadata": {},
   "outputs": [
    {
     "data": {
      "text/plain": [
       "False"
      ]
     },
     "execution_count": 55,
     "metadata": {},
     "output_type": "execute_result"
    }
   ],
   "source": [
    "not True"
   ]
  },
  {
   "cell_type": "code",
   "execution_count": 56,
   "id": "2f1e695f",
   "metadata": {},
   "outputs": [
    {
     "data": {
      "text/plain": [
       "True"
      ]
     },
     "execution_count": 56,
     "metadata": {},
     "output_type": "execute_result"
    }
   ],
   "source": [
    "not False"
   ]
  },
  {
   "cell_type": "code",
   "execution_count": 57,
   "id": "318e9b76",
   "metadata": {},
   "outputs": [
    {
     "data": {
      "text/plain": [
       "False"
      ]
     },
     "execution_count": 57,
     "metadata": {},
     "output_type": "execute_result"
    }
   ],
   "source": [
    "False and True"
   ]
  },
  {
   "cell_type": "code",
   "execution_count": 58,
   "id": "dad607a6",
   "metadata": {},
   "outputs": [
    {
     "data": {
      "text/plain": [
       "True"
      ]
     },
     "execution_count": 58,
     "metadata": {},
     "output_type": "execute_result"
    }
   ],
   "source": [
    "True or False"
   ]
  },
  {
   "cell_type": "markdown",
   "id": "299a00eb",
   "metadata": {},
   "source": [
    "## 1.4 Comments"
   ]
  },
  {
   "cell_type": "code",
   "execution_count": null,
   "id": "4be5e768",
   "metadata": {},
   "outputs": [],
   "source": [
    "# calculate temperature \n",
    "TEMPERATURE_SCALE = 273 # This is a farenhite\n",
    "current = 32"
   ]
  },
  {
   "cell_type": "code",
   "execution_count": null,
   "id": "634e89b6",
   "metadata": {},
   "outputs": [],
   "source": [
    "\"\"\" calculate \n",
    "temperature \"\"\"\n",
    "TEMPERATURE_SCALE = 273 # This is a farenhite\n",
    "current = 32"
   ]
  },
  {
   "cell_type": "markdown",
   "id": "9306a0c7",
   "metadata": {},
   "source": [
    "## 1.5 Index and Slicing"
   ]
  },
  {
   "cell_type": "code",
   "execution_count": 59,
   "id": "f47b7da1",
   "metadata": {},
   "outputs": [],
   "source": [
    "language = \"PYTHON\""
   ]
  },
  {
   "cell_type": "code",
   "execution_count": 64,
   "id": "c769420a",
   "metadata": {},
   "outputs": [
    {
     "name": "stdout",
     "output_type": "stream",
     "text": [
      "P\n",
      "Y\n",
      "N\n",
      "N\n",
      "O\n"
     ]
    }
   ],
   "source": [
    "#Index\n",
    "print(language[0])\n",
    "print(language[1])\n",
    "print(language[5])\n",
    "print(language[-1])\n",
    "print(language[-2])"
   ]
  },
  {
   "cell_type": "code",
   "execution_count": 67,
   "id": "e4ad2864",
   "metadata": {},
   "outputs": [
    {
     "name": "stdout",
     "output_type": "stream",
     "text": [
      "PY\n",
      "PY\n",
      "TH\n",
      "THON\n",
      "HON\n",
      "HO\n"
     ]
    }
   ],
   "source": [
    "#Slicing\n",
    "print(language[0:2])\n",
    "print(language[:2])\n",
    "\n",
    "#TH\n",
    "print(language[2:4])\n",
    "#THON\n",
    "print(language[2:])\n",
    "#HON\n",
    "print(language[-3:])\n",
    "#HO\n",
    "print(language[-3:-1])"
   ]
  },
  {
   "cell_type": "markdown",
   "id": "4d666a43",
   "metadata": {},
   "source": [
    "## 1.6 Data structures"
   ]
  },
  {
   "cell_type": "markdown",
   "id": "88520692",
   "metadata": {},
   "source": [
    "1.6.1 Lists"
   ]
  },
  {
   "cell_type": "code",
   "execution_count": 69,
   "id": "cc8a5ba1",
   "metadata": {},
   "outputs": [
    {
     "name": "stdout",
     "output_type": "stream",
     "text": [
      "<class 'str'>\n",
      "<class 'list'>\n",
      "['oee.xlsx', 'oee2.xlsx', 'oee3.xlsx']\n"
     ]
    }
   ],
   "source": [
    "file_name = \"oee.xlsx\"\n",
    "file_names = [\"oee.xlsx\", \"oee2.xlsx\", \"oee3.xlsx\"]\n",
    "\n",
    "print(type(file_name))\n",
    "print(type(file_names))\n",
    "print(file_names)"
   ]
  },
  {
   "cell_type": "code",
   "execution_count": 70,
   "id": "c149a70a",
   "metadata": {},
   "outputs": [
    {
     "data": {
      "text/plain": [
       "['one.xlsx', 2, 'three.xlsx', 2]"
      ]
     },
     "execution_count": 70,
     "metadata": {},
     "output_type": "execute_result"
    }
   ],
   "source": [
    "file_names_2 = [\"one.xlsx\",2 , \"three.xlsx\", 2]\n",
    "file_names_2"
   ]
  },
  {
   "cell_type": "code",
   "execution_count": 71,
   "id": "d36cc154",
   "metadata": {},
   "outputs": [
    {
     "data": {
      "text/plain": [
       "['oee.xlsx', 'oee2.xlsx', 'oee3.xlsx', 'one.xlsx', 2, 'three.xlsx', 2]"
      ]
     },
     "execution_count": 71,
     "metadata": {},
     "output_type": "execute_result"
    }
   ],
   "source": [
    "file_names + file_names_2"
   ]
  }
 ],
 "metadata": {
  "kernelspec": {
   "display_name": "python_office",
   "language": "python",
   "name": "python3"
  },
  "language_info": {
   "codemirror_mode": {
    "name": "ipython",
    "version": 3
   },
   "file_extension": ".py",
   "mimetype": "text/x-python",
   "name": "python",
   "nbconvert_exporter": "python",
   "pygments_lexer": "ipython3",
   "version": "3.12.0"
  }
 },
 "nbformat": 4,
 "nbformat_minor": 5
}
