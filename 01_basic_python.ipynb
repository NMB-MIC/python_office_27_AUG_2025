{
 "cells": [
  {
   "cell_type": "markdown",
   "id": "9ba5d1a9",
   "metadata": {},
   "source": [
    "# Basic Python"
   ]
  },
  {
   "cell_type": "code",
   "execution_count": 103,
   "id": "22bacc7a",
   "metadata": {},
   "outputs": [
    {
     "name": "stdout",
     "output_type": "stream",
     "text": [
      "Hello world\n"
     ]
    }
   ],
   "source": [
    "print(\"Hello world\")"
   ]
  },
  {
   "cell_type": "markdown",
   "id": "bb12329c",
   "metadata": {},
   "source": [
    "## 1.1 Variables"
   ]
  },
  {
   "cell_type": "code",
   "execution_count": 104,
   "id": "f75c0d01",
   "metadata": {},
   "outputs": [
    {
     "name": "stdout",
     "output_type": "stream",
     "text": [
      "hello world\n",
      "hell world2\n"
     ]
    }
   ],
   "source": [
    "msg = \"hello world\"\n",
    "print(msg)\n",
    "\n",
    "msg = \"hell world2\"\n",
    "print(msg)"
   ]
  },
  {
   "cell_type": "code",
   "execution_count": 105,
   "id": "e65548c3",
   "metadata": {},
   "outputs": [],
   "source": [
    "name = \"suraphop\"\n",
    "first_name = \"Suraphop\" "
   ]
  },
  {
   "cell_type": "code",
   "execution_count": 106,
   "id": "e9d39508",
   "metadata": {},
   "outputs": [],
   "source": [
    "firstName = \"suraphop\" #calmel case "
   ]
  },
  {
   "cell_type": "code",
   "execution_count": 107,
   "id": "02d380ee",
   "metadata": {},
   "outputs": [],
   "source": [
    "#รหัสพนักงาน \n",
    "\n",
    "emp_id = \"J6639\"\n",
    "emp = \"J6639\"\n",
    "id = \"J6639\"\n",
    "\n",
    "emp_no = \"J6639\"\n",
    "emp_number = \"J6639\"\n",
    "employee_number = \"J6639\""
   ]
  },
  {
   "cell_type": "code",
   "execution_count": 108,
   "id": "e4509650",
   "metadata": {},
   "outputs": [],
   "source": [
    "#legal\n",
    "\n",
    "#1name = \"suraphop\"\n",
    "name_1 = \"suraphop\"\n",
    "#$name = \"suraphop\""
   ]
  },
  {
   "cell_type": "markdown",
   "id": "2c0f5cfe",
   "metadata": {},
   "source": [
    "## 1.2 Data Types"
   ]
  },
  {
   "cell_type": "markdown",
   "id": "884fcad6",
   "metadata": {},
   "source": [
    "1.2.1 Numberic"
   ]
  },
  {
   "cell_type": "code",
   "execution_count": 109,
   "id": "99cdbc8a",
   "metadata": {},
   "outputs": [
    {
     "name": "stdout",
     "output_type": "stream",
     "text": [
      "41\n"
     ]
    }
   ],
   "source": [
    "msg = \"hello world\"\n",
    "msg = \"4\"\n",
    "\n",
    "#print(type(msg))\n",
    "\n",
    "#print(msg+1)\n",
    "\n",
    "print(msg+\"1\")"
   ]
  },
  {
   "cell_type": "code",
   "execution_count": 110,
   "id": "1996b5bd",
   "metadata": {},
   "outputs": [
    {
     "name": "stdout",
     "output_type": "stream",
     "text": [
      "<class 'int'>\n",
      "5\n"
     ]
    }
   ],
   "source": [
    "msg = 4\n",
    "print(type(msg))\n",
    "print(msg+1)"
   ]
  },
  {
   "cell_type": "code",
   "execution_count": 111,
   "id": "d270571a",
   "metadata": {},
   "outputs": [
    {
     "name": "stdout",
     "output_type": "stream",
     "text": [
      "<class 'int'>\n"
     ]
    }
   ],
   "source": [
    "msg = \"4\"\n",
    "\n",
    "msg_int = int(msg)\n",
    "print(type(msg_int))"
   ]
  },
  {
   "cell_type": "code",
   "execution_count": 112,
   "id": "8486bc7c",
   "metadata": {},
   "outputs": [
    {
     "ename": "ValueError",
     "evalue": "invalid literal for int() with base 10: 'suraphop'",
     "output_type": "error",
     "traceback": [
      "\u001b[31m---------------------------------------------------------------------------\u001b[39m",
      "\u001b[31mValueError\u001b[39m                                Traceback (most recent call last)",
      "\u001b[36mCell\u001b[39m\u001b[36m \u001b[39m\u001b[32mIn[112]\u001b[39m\u001b[32m, line 3\u001b[39m\n\u001b[32m      1\u001b[39m msg = \u001b[33m\"\u001b[39m\u001b[33msuraphop\u001b[39m\u001b[33m\"\u001b[39m\n\u001b[32m----> \u001b[39m\u001b[32m3\u001b[39m msg_int = \u001b[38;5;28;43mint\u001b[39;49m\u001b[43m(\u001b[49m\u001b[43mmsg\u001b[49m\u001b[43m)\u001b[49m\n\u001b[32m      4\u001b[39m \u001b[38;5;28mprint\u001b[39m(\u001b[38;5;28mtype\u001b[39m(msg_int))\n",
      "\u001b[31mValueError\u001b[39m: invalid literal for int() with base 10: 'suraphop'"
     ]
    }
   ],
   "source": [
    "msg = \"suraphop\"\n",
    "\n",
    "msg_int = int(msg)\n",
    "print(type(msg_int))"
   ]
  },
  {
   "cell_type": "code",
   "execution_count": null,
   "id": "135c4a06",
   "metadata": {},
   "outputs": [
    {
     "name": "stdout",
     "output_type": "stream",
     "text": [
      "<class 'float'>\n",
      "8.4\n"
     ]
    }
   ],
   "source": [
    "msg = 4.4 \n",
    "print(type(msg)) \n",
    "\n",
    "\n",
    "print(4+msg) \n"
   ]
  },
  {
   "cell_type": "markdown",
   "id": "a7ed7c03",
   "metadata": {},
   "source": [
    "1.2.1 Operator"
   ]
  },
  {
   "cell_type": "code",
   "execution_count": null,
   "id": "f6f4d14d",
   "metadata": {},
   "outputs": [
    {
     "data": {
      "text/plain": [
       "7"
      ]
     },
     "execution_count": 19,
     "metadata": {},
     "output_type": "execute_result"
    }
   ],
   "source": [
    "3+4"
   ]
  },
  {
   "cell_type": "code",
   "execution_count": null,
   "id": "c25353d0",
   "metadata": {},
   "outputs": [
    {
     "data": {
      "text/plain": [
       "-1"
      ]
     },
     "execution_count": 20,
     "metadata": {},
     "output_type": "execute_result"
    }
   ],
   "source": [
    "3-4"
   ]
  },
  {
   "cell_type": "code",
   "execution_count": null,
   "id": "7afc0693",
   "metadata": {},
   "outputs": [
    {
     "data": {
      "text/plain": [
       "12"
      ]
     },
     "execution_count": 21,
     "metadata": {},
     "output_type": "execute_result"
    }
   ],
   "source": [
    "4*3"
   ]
  },
  {
   "cell_type": "code",
   "execution_count": null,
   "id": "33bc7eed",
   "metadata": {},
   "outputs": [
    {
     "data": {
      "text/plain": [
       "1.6666666666666667"
      ]
     },
     "execution_count": 26,
     "metadata": {},
     "output_type": "execute_result"
    }
   ],
   "source": [
    "5/3"
   ]
  },
  {
   "cell_type": "code",
   "execution_count": null,
   "id": "5d35c4a1",
   "metadata": {},
   "outputs": [
    {
     "name": "stdout",
     "output_type": "stream",
     "text": [
      "1.67\n",
      "1.667\n"
     ]
    }
   ],
   "source": [
    "print(round(5/3,2))\n",
    "print(round(5/3,3))"
   ]
  },
  {
   "cell_type": "code",
   "execution_count": null,
   "id": "0515cc28",
   "metadata": {},
   "outputs": [
    {
     "data": {
      "text/plain": [
       "81"
      ]
     },
     "execution_count": 27,
     "metadata": {},
     "output_type": "execute_result"
    }
   ],
   "source": [
    "3**4"
   ]
  },
  {
   "cell_type": "code",
   "execution_count": null,
   "id": "5bc63ee8",
   "metadata": {},
   "outputs": [
    {
     "data": {
      "text/plain": [
       "21"
      ]
     },
     "execution_count": 28,
     "metadata": {},
     "output_type": "execute_result"
    }
   ],
   "source": [
    "3 * (3+4)"
   ]
  },
  {
   "cell_type": "markdown",
   "id": "49535a57",
   "metadata": {},
   "source": [
    "1.2.2 String"
   ]
  },
  {
   "cell_type": "code",
   "execution_count": null,
   "id": "46d22000",
   "metadata": {},
   "outputs": [
    {
     "name": "stdout",
     "output_type": "stream",
     "text": [
      "hello world\n",
      "hello world\n",
      "This 's easy to learn python\n",
      "This \"s easy to learn python\n"
     ]
    }
   ],
   "source": [
    "msg = \"hello world\"\n",
    "print(msg)\n",
    "msg = 'hello world'\n",
    "print(msg)\n",
    "\n",
    "\n",
    "#print('This 's easy to learn python')\n",
    "print(\"This 's easy to learn python\")\n",
    "print('This \"s easy to learn python')"
   ]
  },
  {
   "cell_type": "code",
   "execution_count": null,
   "id": "0bcefc01",
   "metadata": {},
   "outputs": [
    {
     "name": "stdout",
     "output_type": "stream",
     "text": [
      "helloworld\n",
      "hello world\n",
      "hello world\n"
     ]
    }
   ],
   "source": [
    "# adding string \n",
    "\n",
    "msg_1 = \"hello\"\n",
    "msg_2 = \"world\"\n",
    "\n",
    "print(msg_1 + msg_2)\n",
    "print(msg_1 +\" \"+msg_2) \n",
    "print(f\"{msg_1} {msg_2}\") # f-function string"
   ]
  },
  {
   "cell_type": "code",
   "execution_count": null,
   "id": "aa2bcc55",
   "metadata": {},
   "outputs": [
    {
     "data": {
      "text/plain": [
       "'python'"
      ]
     },
     "execution_count": 39,
     "metadata": {},
     "output_type": "execute_result"
    }
   ],
   "source": [
    "\"PYTHON\".lower()"
   ]
  },
  {
   "cell_type": "code",
   "execution_count": null,
   "id": "241023d2",
   "metadata": {},
   "outputs": [
    {
     "data": {
      "text/plain": [
       "'PYTHON'"
      ]
     },
     "execution_count": 40,
     "metadata": {},
     "output_type": "execute_result"
    }
   ],
   "source": [
    "\"python\".upper()"
   ]
  },
  {
   "cell_type": "code",
   "execution_count": null,
   "id": "a4fd0f21",
   "metadata": {},
   "outputs": [
    {
     "data": {
      "text/plain": [
       "'HELLO WORLD'"
      ]
     },
     "execution_count": 41,
     "metadata": {},
     "output_type": "execute_result"
    }
   ],
   "source": [
    "msg = \"Hello world\"\n",
    "msg.upper()"
   ]
  },
  {
   "cell_type": "markdown",
   "id": "1f7fbdec",
   "metadata": {},
   "source": [
    "1.2.3 Constant"
   ]
  },
  {
   "cell_type": "code",
   "execution_count": null,
   "id": "a0390406",
   "metadata": {},
   "outputs": [
    {
     "name": "stdout",
     "output_type": "stream",
     "text": [
      "fahrenheit\n",
      "fahrenheit1\n"
     ]
    }
   ],
   "source": [
    "TEMPERATURE_SCALE = \"fahrenheit\"\n",
    "print(TEMPERATURE_SCALE)\n",
    "\n",
    "TEMPERATURE_SCALE = \"fahrenheit1\"\n",
    "print(TEMPERATURE_SCALE)"
   ]
  },
  {
   "cell_type": "markdown",
   "id": "255969be",
   "metadata": {},
   "source": [
    "## 1.3 Compareative(booleans) "
   ]
  },
  {
   "cell_type": "code",
   "execution_count": null,
   "id": "0b6b6971",
   "metadata": {},
   "outputs": [
    {
     "data": {
      "text/plain": [
       "False"
      ]
     },
     "execution_count": 45,
     "metadata": {},
     "output_type": "execute_result"
    }
   ],
   "source": [
    "3==4"
   ]
  },
  {
   "cell_type": "code",
   "execution_count": null,
   "id": "358c98d1",
   "metadata": {},
   "outputs": [
    {
     "data": {
      "text/plain": [
       "True"
      ]
     },
     "execution_count": 46,
     "metadata": {},
     "output_type": "execute_result"
    }
   ],
   "source": [
    "4==4"
   ]
  },
  {
   "cell_type": "code",
   "execution_count": null,
   "id": "3449ed67",
   "metadata": {},
   "outputs": [
    {
     "name": "stdout",
     "output_type": "stream",
     "text": [
      "<class 'bool'>\n"
     ]
    }
   ],
   "source": [
    "print(type(3==4))"
   ]
  },
  {
   "cell_type": "code",
   "execution_count": null,
   "id": "478425f5",
   "metadata": {},
   "outputs": [
    {
     "data": {
      "text/plain": [
       "True"
      ]
     },
     "execution_count": 49,
     "metadata": {},
     "output_type": "execute_result"
    }
   ],
   "source": [
    "3 != 4"
   ]
  },
  {
   "cell_type": "code",
   "execution_count": null,
   "id": "92f892ef",
   "metadata": {},
   "outputs": [
    {
     "data": {
      "text/plain": [
       "True"
      ]
     },
     "execution_count": 50,
     "metadata": {},
     "output_type": "execute_result"
    }
   ],
   "source": [
    "3 < 4"
   ]
  },
  {
   "cell_type": "code",
   "execution_count": null,
   "id": "ae99c638",
   "metadata": {},
   "outputs": [
    {
     "data": {
      "text/plain": [
       "True"
      ]
     },
     "execution_count": 51,
     "metadata": {},
     "output_type": "execute_result"
    }
   ],
   "source": [
    "3 <= 4"
   ]
  },
  {
   "cell_type": "code",
   "execution_count": null,
   "id": "9a052b13",
   "metadata": {},
   "outputs": [
    {
     "data": {
      "text/plain": [
       "True"
      ]
     },
     "execution_count": 52,
     "metadata": {},
     "output_type": "execute_result"
    }
   ],
   "source": [
    "3 < 4 < 5 "
   ]
  },
  {
   "cell_type": "code",
   "execution_count": null,
   "id": "f7bab53d",
   "metadata": {},
   "outputs": [
    {
     "data": {
      "text/plain": [
       "True"
      ]
     },
     "execution_count": 53,
     "metadata": {},
     "output_type": "execute_result"
    }
   ],
   "source": [
    "True"
   ]
  },
  {
   "cell_type": "code",
   "execution_count": null,
   "id": "90e74141",
   "metadata": {},
   "outputs": [
    {
     "data": {
      "text/plain": [
       "False"
      ]
     },
     "execution_count": 54,
     "metadata": {},
     "output_type": "execute_result"
    }
   ],
   "source": [
    "False"
   ]
  },
  {
   "cell_type": "code",
   "execution_count": null,
   "id": "161d19e2",
   "metadata": {},
   "outputs": [
    {
     "data": {
      "text/plain": [
       "False"
      ]
     },
     "execution_count": 55,
     "metadata": {},
     "output_type": "execute_result"
    }
   ],
   "source": [
    "not True"
   ]
  },
  {
   "cell_type": "code",
   "execution_count": null,
   "id": "2f1e695f",
   "metadata": {},
   "outputs": [
    {
     "data": {
      "text/plain": [
       "True"
      ]
     },
     "execution_count": 56,
     "metadata": {},
     "output_type": "execute_result"
    }
   ],
   "source": [
    "not False"
   ]
  },
  {
   "cell_type": "code",
   "execution_count": null,
   "id": "318e9b76",
   "metadata": {},
   "outputs": [
    {
     "data": {
      "text/plain": [
       "False"
      ]
     },
     "execution_count": 57,
     "metadata": {},
     "output_type": "execute_result"
    }
   ],
   "source": [
    "False and True"
   ]
  },
  {
   "cell_type": "code",
   "execution_count": null,
   "id": "dad607a6",
   "metadata": {},
   "outputs": [
    {
     "data": {
      "text/plain": [
       "True"
      ]
     },
     "execution_count": 58,
     "metadata": {},
     "output_type": "execute_result"
    }
   ],
   "source": [
    "True or False"
   ]
  },
  {
   "cell_type": "markdown",
   "id": "299a00eb",
   "metadata": {},
   "source": [
    "## 1.4 Comments"
   ]
  },
  {
   "cell_type": "code",
   "execution_count": null,
   "id": "4be5e768",
   "metadata": {},
   "outputs": [],
   "source": [
    "# calculate temperature \n",
    "TEMPERATURE_SCALE = 273 # This is a farenhite\n",
    "current = 32"
   ]
  },
  {
   "cell_type": "code",
   "execution_count": null,
   "id": "634e89b6",
   "metadata": {},
   "outputs": [],
   "source": [
    "\"\"\" calculate \n",
    "temperature \"\"\"\n",
    "TEMPERATURE_SCALE = 273 # This is a farenhite\n",
    "current = 32"
   ]
  },
  {
   "cell_type": "markdown",
   "id": "9306a0c7",
   "metadata": {},
   "source": [
    "## 1.5 Index and Slicing"
   ]
  },
  {
   "cell_type": "code",
   "execution_count": null,
   "id": "f47b7da1",
   "metadata": {},
   "outputs": [],
   "source": [
    "language = \"PYTHON\""
   ]
  },
  {
   "cell_type": "code",
   "execution_count": null,
   "id": "c769420a",
   "metadata": {},
   "outputs": [
    {
     "name": "stdout",
     "output_type": "stream",
     "text": [
      "P\n",
      "Y\n",
      "N\n",
      "N\n",
      "O\n"
     ]
    }
   ],
   "source": [
    "#Index\n",
    "print(language[0])\n",
    "print(language[1])\n",
    "print(language[5])\n",
    "print(language[-1])\n",
    "print(language[-2])"
   ]
  },
  {
   "cell_type": "code",
   "execution_count": null,
   "id": "e4ad2864",
   "metadata": {},
   "outputs": [
    {
     "name": "stdout",
     "output_type": "stream",
     "text": [
      "PY\n",
      "PY\n",
      "TH\n",
      "THON\n",
      "HON\n",
      "HO\n"
     ]
    }
   ],
   "source": [
    "#Slicing\n",
    "print(language[0:2])\n",
    "print(language[:2])\n",
    "\n",
    "#TH\n",
    "print(language[2:4])\n",
    "#THON\n",
    "print(language[2:])\n",
    "#HON\n",
    "print(language[-3:])\n",
    "#HO\n",
    "print(language[-3:-1])"
   ]
  },
  {
   "cell_type": "markdown",
   "id": "4d666a43",
   "metadata": {},
   "source": [
    "## 1.6 Data structures"
   ]
  },
  {
   "cell_type": "markdown",
   "id": "88520692",
   "metadata": {},
   "source": [
    "1.6.1 Lists"
   ]
  },
  {
   "cell_type": "code",
   "execution_count": null,
   "id": "cc8a5ba1",
   "metadata": {},
   "outputs": [
    {
     "name": "stdout",
     "output_type": "stream",
     "text": [
      "<class 'str'>\n",
      "<class 'list'>\n",
      "['oee.xlsx', 'oee2.xlsx', 'oee3.xlsx']\n"
     ]
    }
   ],
   "source": [
    "file_name = \"oee.xlsx\"\n",
    "file_names = [\"oee.xlsx\", \"oee2.xlsx\", \"oee3.xlsx\"]\n",
    "\n",
    "print(type(file_name))\n",
    "print(type(file_names))\n",
    "print(file_names)"
   ]
  },
  {
   "cell_type": "code",
   "execution_count": null,
   "id": "c149a70a",
   "metadata": {},
   "outputs": [
    {
     "data": {
      "text/plain": [
       "['one.xlsx', 2, 'three.xlsx', 2]"
      ]
     },
     "execution_count": 70,
     "metadata": {},
     "output_type": "execute_result"
    }
   ],
   "source": [
    "file_names_2 = [\"one.xlsx\",2 , \"three.xlsx\", 2]\n",
    "file_names_2"
   ]
  },
  {
   "cell_type": "code",
   "execution_count": null,
   "id": "d36cc154",
   "metadata": {},
   "outputs": [
    {
     "data": {
      "text/plain": [
       "['oee.xlsx', 'oee2.xlsx', 'oee3.xlsx', 'one.xlsx', 2, 'three.xlsx', 2]"
      ]
     },
     "execution_count": 71,
     "metadata": {},
     "output_type": "execute_result"
    }
   ],
   "source": [
    "file_names + file_names_2"
   ]
  },
  {
   "cell_type": "code",
   "execution_count": null,
   "id": "66427fbb",
   "metadata": {},
   "outputs": [
    {
     "name": "stdout",
     "output_type": "stream",
     "text": [
      "<class 'list'>\n",
      "oee.xlsx\n",
      "<class 'str'>\n",
      "['oee.xlsx', 'oee2.xlsx']\n",
      "<class 'list'>\n"
     ]
    }
   ],
   "source": [
    "#index , slicing\n",
    "\n",
    "file_names = [\"oee.xlsx\", \"oee2.xlsx\", \"oee3.xlsx\"]\n",
    "\n",
    "print(type(file_names))\n",
    "\n",
    "print(file_names[0])\n",
    "print(type(file_names[0]))\n",
    "\n",
    "print(file_names[:2])\n",
    "print(type(file_names[:2]))"
   ]
  },
  {
   "cell_type": "code",
   "execution_count": null,
   "id": "e44bf633",
   "metadata": {},
   "outputs": [
    {
     "name": "stdout",
     "output_type": "stream",
     "text": [
      "[[1, 2, 3], [4, 5, 6], [7, 8, 9]]\n"
     ]
    }
   ],
   "source": [
    "nested_lists = [[1,2,3],[4,5,6],[7,8,9]]\n",
    "print(nested_lists)"
   ]
  },
  {
   "cell_type": "code",
   "execution_count": null,
   "id": "b48c82e6",
   "metadata": {},
   "outputs": [
    {
     "name": "stdout",
     "output_type": "stream",
     "text": [
      "[1, 2, 3]\n",
      "1\n",
      "<class 'int'>\n",
      "5\n",
      "<class 'int'>\n",
      "9\n",
      "<class 'int'>\n",
      "[8, 9]\n",
      "<class 'list'>\n",
      "[8, 9]\n",
      "[8, 9]\n"
     ]
    }
   ],
   "source": [
    "print(nested_lists[0])\n",
    "\n",
    "#1 \n",
    "print(nested_lists[0][0])\n",
    "print(type(nested_lists[0][0]))\n",
    "#5 \n",
    "print(nested_lists[1][1])\n",
    "print(type(nested_lists[1][1]))\n",
    "#9\n",
    "print(nested_lists[2][2])\n",
    "print(type(nested_lists[2][2]))\n",
    "#[8,9]\n",
    "print(nested_lists[2][1:]) #reccommend\n",
    "print(type(nested_lists[2][1:]))\n",
    "print(nested_lists[2][1:3])\n",
    "print(nested_lists[2][-2:])"
   ]
  },
  {
   "cell_type": "code",
   "execution_count": null,
   "id": "73164d97",
   "metadata": {},
   "outputs": [
    {
     "name": "stdout",
     "output_type": "stream",
     "text": [
      "['Alice', 'Bob', 'Charlie']\n"
     ]
    }
   ],
   "source": [
    "#add values in list\n",
    "users = ['Alice', 'Bob', 'Charlie']\n",
    "print(users)"
   ]
  },
  {
   "cell_type": "code",
   "execution_count": null,
   "id": "eae83f87",
   "metadata": {},
   "outputs": [
    {
     "name": "stdout",
     "output_type": "stream",
     "text": [
      "['Alice', 'Bob', 'Charlie', 'suraphop']\n"
     ]
    }
   ],
   "source": [
    "users.append(\"suraphop\")\n",
    "print(users)"
   ]
  },
  {
   "cell_type": "code",
   "execution_count": null,
   "id": "abf73e5c",
   "metadata": {},
   "outputs": [
    {
     "name": "stdout",
     "output_type": "stream",
     "text": [
      "['Kim', 'Alice', 'Bob', 'Charlie', 'suraphop']\n"
     ]
    }
   ],
   "source": [
    "users.insert(0, \"Kim\")\n",
    "print(users)"
   ]
  },
  {
   "cell_type": "code",
   "execution_count": null,
   "id": "0db41b14",
   "metadata": {},
   "outputs": [
    {
     "name": "stdout",
     "output_type": "stream",
     "text": [
      "['Kim', 'Alice', 'Bob', 'Charlie']\n"
     ]
    }
   ],
   "source": [
    "users.pop()\n",
    "print(users)"
   ]
  },
  {
   "cell_type": "code",
   "execution_count": null,
   "id": "6ed4a907",
   "metadata": {},
   "outputs": [
    {
     "name": "stdout",
     "output_type": "stream",
     "text": [
      "['Alice', 'Bob', 'Charlie']\n"
     ]
    }
   ],
   "source": [
    "users.pop(0)\n",
    "print(users)"
   ]
  },
  {
   "cell_type": "code",
   "execution_count": null,
   "id": "c72e2eb2",
   "metadata": {},
   "outputs": [
    {
     "name": "stdout",
     "output_type": "stream",
     "text": [
      "['Bob', 'Charlie']\n"
     ]
    }
   ],
   "source": [
    "del users[0]\n",
    "print(users)"
   ]
  },
  {
   "cell_type": "code",
   "execution_count": 115,
   "id": "f2a0b3e2",
   "metadata": {},
   "outputs": [
    {
     "name": "stdout",
     "output_type": "stream",
     "text": [
      "['Bob', 'Charlie']\n",
      "['David', 'Charlie']\n"
     ]
    }
   ],
   "source": [
    "print(users)\n",
    "users[0] = \"David\"\n",
    "print(users)"
   ]
  },
  {
   "cell_type": "code",
   "execution_count": 118,
   "id": "3c2523cc",
   "metadata": {},
   "outputs": [
    {
     "name": "stdout",
     "output_type": "stream",
     "text": [
      "True\n",
      "False\n",
      "False\n"
     ]
    }
   ],
   "source": [
    "print(\"David\" in users)\n",
    "print(\"David2\" in users)\n",
    "print(\"david\" in users)"
   ]
  },
  {
   "cell_type": "code",
   "execution_count": 119,
   "id": "7c8abe4f",
   "metadata": {},
   "outputs": [
    {
     "data": {
      "text/plain": [
       "True"
      ]
     },
     "execution_count": 119,
     "metadata": {},
     "output_type": "execute_result"
    }
   ],
   "source": [
    "\"XS\" in \"XSOOIS\""
   ]
  },
  {
   "cell_type": "code",
   "execution_count": 122,
   "id": "efbb6126",
   "metadata": {},
   "outputs": [
    {
     "name": "stdout",
     "output_type": "stream",
     "text": [
      "['Charlie', 'David']\n",
      "['Charlie', 'David']\n",
      "['David', 'Charlie']\n"
     ]
    }
   ],
   "source": [
    "#sorts\n",
    "print(users)\n",
    "users.sort()\n",
    "print(users) #ASC\n",
    "users.sort(reverse=True)\n",
    "print(users) #DESC"
   ]
  },
  {
   "cell_type": "markdown",
   "id": "8d0f4b97",
   "metadata": {},
   "source": [
    "### 1.6.2 Dictionary"
   ]
  },
  {
   "cell_type": "code",
   "execution_count": 126,
   "id": "9e6b6b64",
   "metadata": {},
   "outputs": [
    {
     "name": "stdout",
     "output_type": "stream",
     "text": [
      "<class 'dict'>\n",
      "{'EURUSD': 1.1152, 'GBPUSD': 1.2452, 'AUDUSD': 0.6161}\n"
     ]
    }
   ],
   "source": [
    "exchange_rates = {\"EURUSD\": 1.1152 , \"GBPUSD\":1.2452 , \"AUDUSD\":0.6161}\n",
    "print(type(exchange_rates))\n",
    "print(exchange_rates)"
   ]
  },
  {
   "cell_type": "code",
   "execution_count": null,
   "id": "889ab53f",
   "metadata": {},
   "outputs": [
    {
     "name": "stdout",
     "output_type": "stream",
     "text": [
      "1.1152\n",
      "<class 'float'>\n"
     ]
    }
   ],
   "source": [
    "#get value\n",
    "print(exchange_rates[\"EURUSD\"])\n",
    "print(type(exchange_rates[\"EURUSD\"]))"
   ]
  },
  {
   "cell_type": "code",
   "execution_count": null,
   "id": "68db1019",
   "metadata": {},
   "outputs": [
    {
     "name": "stdout",
     "output_type": "stream",
     "text": [
      "{'EURUSD': 1.1152, 'GBPUSD': 1.2452, 'AUDUSD': 0.6161, 'EURJPY': 144.01}\n"
     ]
    }
   ],
   "source": [
    "# add value\n",
    "exchange_rates[\"EURJPY\"] = 144.01\n",
    "print(exchange_rates)"
   ]
  },
  {
   "cell_type": "code",
   "execution_count": 131,
   "id": "137b3b9f",
   "metadata": {},
   "outputs": [
    {
     "name": "stdout",
     "output_type": "stream",
     "text": [
      "{'EURUSD': 1.1152, 'GBPUSD': 1.2452, 'AUDUSD': 0.6161, 'EURJPY': 200.01}\n"
     ]
    }
   ],
   "source": [
    "#edit value\n",
    "exchange_rates[\"EURJPY\"] = 200.01\n",
    "print(exchange_rates)"
   ]
  },
  {
   "cell_type": "code",
   "execution_count": 132,
   "id": "8db76b13",
   "metadata": {},
   "outputs": [
    {
     "name": "stdout",
     "output_type": "stream",
     "text": [
      "{'EURUSD': 1.1152, 'GBPUSD': 1.2452, 'AUDUSD': 0.6161}\n"
     ]
    }
   ],
   "source": [
    "#delete value\n",
    "exchange_rates.pop(\"EURJPY\")\n",
    "print(exchange_rates)"
   ]
  },
  {
   "cell_type": "markdown",
   "id": "e13c31a5",
   "metadata": {},
   "source": [
    "### 1.6.3 Tuple"
   ]
  },
  {
   "cell_type": "code",
   "execution_count": 138,
   "id": "0e02a66c",
   "metadata": {},
   "outputs": [
    {
     "name": "stdout",
     "output_type": "stream",
     "text": [
      "<class 'tuple'>\n",
      "<class 'list'>\n",
      "['USD', 'GBP', 'AUD']\n"
     ]
    }
   ],
   "source": [
    "currencies = (\"EUR\",\"GBP\",\"AUD\")\n",
    "currencies_lists = [\"EUR\",\"GBP\",\"AUD\"]\n",
    "print(type(currencies))\n",
    "print(type(currencies_lists))\n",
    "\n",
    "#currencies[0] = \"USD\"\n",
    "currencies_lists[0] = \"USD\"\n",
    "print(currencies_lists)"
   ]
  },
  {
   "cell_type": "markdown",
   "id": "7dc092f4",
   "metadata": {},
   "source": [
    "## 1.7 Control flow"
   ]
  },
  {
   "cell_type": "markdown",
   "id": "9351ca5f",
   "metadata": {},
   "source": [
    "### 1.7.1 If statement"
   ]
  },
  {
   "cell_type": "code",
   "execution_count": 140,
   "id": "3122bbd6",
   "metadata": {},
   "outputs": [
    {
     "name": "stdout",
     "output_type": "stream",
     "text": [
      "False\n",
      "Condition is True\n"
     ]
    }
   ],
   "source": [
    "i = 6\n",
    "print(i < 5)\n",
    "\n",
    "if True:\n",
    "    print(\"Condition is True\")"
   ]
  },
  {
   "cell_type": "code",
   "execution_count": 152,
   "id": "1f5bd796",
   "metadata": {},
   "outputs": [
    {
     "name": "stdout",
     "output_type": "stream",
     "text": [
      "i is between 5 and 10\n"
     ]
    }
   ],
   "source": [
    "i=6\n",
    "if i<5:\n",
    "    print(\"i is less than 5\")\n",
    "elif i <=10:\n",
    "    print(\"i is between 5 and 10\")\n",
    "elif i <=15:\n",
    "    print(\"i is between 10 and 15\")\n",
    "else:\n",
    "    print(\"out of range\")\n"
   ]
  },
  {
   "cell_type": "markdown",
   "id": "53e7f242",
   "metadata": {},
   "source": [
    "### For Loops and While Loop"
   ]
  },
  {
   "cell_type": "code",
   "execution_count": 153,
   "id": "83555150",
   "metadata": {},
   "outputs": [
    {
     "name": "stdout",
     "output_type": "stream",
     "text": [
      "0\n",
      "1\n",
      "2\n",
      "3\n",
      "4\n"
     ]
    }
   ],
   "source": [
    "for i in range(5):\n",
    "    print(i)"
   ]
  },
  {
   "cell_type": "code",
   "execution_count": 156,
   "id": "58c5022e",
   "metadata": {},
   "outputs": [
    {
     "name": "stdout",
     "output_type": "stream",
     "text": [
      "0\n",
      "1\n",
      "2\n",
      "3\n",
      "4\n",
      "Found 5\n"
     ]
    }
   ],
   "source": [
    "for i in range(10):\n",
    "    if i == 5:\n",
    "        print(\"Found 5\")\n",
    "        break\n",
    "    print(i)"
   ]
  },
  {
   "cell_type": "code",
   "execution_count": 158,
   "id": "a8a5c04b",
   "metadata": {},
   "outputs": [
    {
     "name": "stdout",
     "output_type": "stream",
     "text": [
      "0\n",
      "1\n",
      "2\n",
      "3\n",
      "4\n",
      "6\n",
      "7\n",
      "8\n",
      "9\n"
     ]
    }
   ],
   "source": [
    "for i in range(10):\n",
    "    if i == 5:\n",
    "        continue\n",
    "    print(i)"
   ]
  },
  {
   "cell_type": "code",
   "execution_count": 159,
   "id": "0fcbb141",
   "metadata": {},
   "outputs": [
    {
     "name": "stdout",
     "output_type": "stream",
     "text": [
      "1\n",
      "2\n",
      "3\n",
      "4\n",
      "5\n",
      "6\n",
      "7\n",
      "8\n",
      "9\n"
     ]
    }
   ],
   "source": [
    "for i in range(1,10):\n",
    "    print(i)"
   ]
  },
  {
   "cell_type": "code",
   "execution_count": 160,
   "id": "f5ed1974",
   "metadata": {},
   "outputs": [
    {
     "name": "stdout",
     "output_type": "stream",
     "text": [
      "1\n",
      "3\n",
      "5\n",
      "7\n",
      "9\n"
     ]
    }
   ],
   "source": [
    "for i in range(1,10,2):\n",
    "    print(i)"
   ]
  },
  {
   "cell_type": "markdown",
   "id": "9c2c40eb",
   "metadata": {},
   "source": [
    "### For loops in data structure"
   ]
  },
  {
   "cell_type": "markdown",
   "id": "d3d70be0",
   "metadata": {},
   "source": [
    "#### 1.7.3.1 for loops in lists"
   ]
  },
  {
   "cell_type": "code",
   "execution_count": 161,
   "id": "aad4a4b3",
   "metadata": {},
   "outputs": [
    {
     "data": {
      "text/plain": [
       "['USD', 'HKD', 'AUD']"
      ]
     },
     "execution_count": 161,
     "metadata": {},
     "output_type": "execute_result"
    }
   ],
   "source": [
    "currencies = [\"USD\",\"HKD\",\"AUD\"]\n",
    "currencies"
   ]
  },
  {
   "cell_type": "code",
   "execution_count": 163,
   "id": "fb313319",
   "metadata": {},
   "outputs": [
    {
     "name": "stdout",
     "output_type": "stream",
     "text": [
      "USD\n",
      "<class 'str'>\n",
      "HKD\n",
      "<class 'str'>\n",
      "AUD\n",
      "<class 'str'>\n"
     ]
    }
   ],
   "source": [
    "for currencie in currencies:\n",
    "    print(currencie)\n",
    "    print(type(currencie))"
   ]
  },
  {
   "cell_type": "markdown",
   "id": "16c252a5",
   "metadata": {},
   "source": [
    "#### 1.7.3.2 for loops in dictionaries"
   ]
  },
  {
   "cell_type": "code",
   "execution_count": null,
   "id": "eb6fd8ee",
   "metadata": {},
   "outputs": [
    {
     "data": {
      "text/plain": [
       "{'EURUSD': 1.1152, 'GBPUSD': 1.2452, 'AUDUSD': 0.6161}"
      ]
     },
     "execution_count": 164,
     "metadata": {},
     "output_type": "execute_result"
    }
   ],
   "source": [
    "exchange_rates = {\"EURUSD\": 1.1152 , \"GBPUSD\":1.2452,\"AUDUSD\":0.6161}\n",
    "exchange_rates"
   ]
  },
  {
   "cell_type": "code",
   "execution_count": 165,
   "id": "5102ad91",
   "metadata": {},
   "outputs": [
    {
     "name": "stdout",
     "output_type": "stream",
     "text": [
      "EURUSD\n",
      "<class 'str'>\n",
      "GBPUSD\n",
      "<class 'str'>\n",
      "AUDUSD\n",
      "<class 'str'>\n"
     ]
    }
   ],
   "source": [
    "for exchange_rate in exchange_rates:\n",
    "    print(exchange_rate)\n",
    "    print(type(exchange_rate))"
   ]
  },
  {
   "cell_type": "code",
   "execution_count": 167,
   "id": "d119dcf0",
   "metadata": {},
   "outputs": [
    {
     "name": "stdout",
     "output_type": "stream",
     "text": [
      "1.1152\n",
      "<class 'float'>\n",
      "1.2452\n",
      "<class 'float'>\n",
      "0.6161\n",
      "<class 'float'>\n"
     ]
    }
   ],
   "source": [
    "for exchange_rate in exchange_rates.values():\n",
    "    print(exchange_rate)\n",
    "    print(type(exchange_rate))"
   ]
  },
  {
   "cell_type": "code",
   "execution_count": 168,
   "id": "44529ad2",
   "metadata": {},
   "outputs": [
    {
     "name": "stdout",
     "output_type": "stream",
     "text": [
      "('EURUSD', 1.1152)\n",
      "<class 'tuple'>\n",
      "('GBPUSD', 1.2452)\n",
      "<class 'tuple'>\n",
      "('AUDUSD', 0.6161)\n",
      "<class 'tuple'>\n"
     ]
    }
   ],
   "source": [
    "for exchange_rate in exchange_rates.items():\n",
    "    print(exchange_rate)\n",
    "    print(type(exchange_rate))"
   ]
  },
  {
   "cell_type": "markdown",
   "id": "a1471290",
   "metadata": {},
   "source": [
    "example: ตรวจสอบคะแนน\n",
    "\n",
    "- กำหนดคะแนน\n",
    "scores = [80, 65, 47, 90, 30, 70]\n",
    "- ตรวจสอบว่ามีใครสอบได้ต่ำกว่า 50 บ้างหรือไม่\n",
    "- ถ้าต่ำกว่า 50 ให้โชว \"นักเรียนคนนี้สอบไม่ผ่าน (คะแนน = {score}) \"\n",
    "- ถ้ามากกว่า หรือเท่ากับ 50 ให้โชว \"นักเรียนคนนี้สอบผ่าน (คะแนน = {score}) \""
   ]
  },
  {
   "cell_type": "code",
   "execution_count": 170,
   "id": "74eedd9a",
   "metadata": {},
   "outputs": [
    {
     "name": "stdout",
     "output_type": "stream",
     "text": [
      "นักเรียนคนนี้สอบผ่าน \n",
      "นักเรียนคนนี้สอบผ่าน \n",
      "นักเรียนคนนี้สอบไม่ผ่าน (คะแนน = 47)\n",
      "นักเรียนคนนี้สอบผ่าน \n",
      "นักเรียนคนนี้สอบไม่ผ่าน (คะแนน = 30)\n",
      "นักเรียนคนนี้สอบผ่าน \n"
     ]
    }
   ],
   "source": [
    "scores = [80, 65, 47, 90, 30, 70]\n",
    "\n",
    "for score in scores:\n",
    "    if score < 50:\n",
    "        print(f\"นักเรียนคนนี้สอบไม่ผ่าน (คะแนน = {score})\")\n",
    "    else:\n",
    "        print(f\"นักเรียนคนนี้สอบผ่าน \")"
   ]
  },
  {
   "cell_type": "markdown",
   "id": "edb51664",
   "metadata": {},
   "source": [
    "example2: ตรวจสอบว่านักเรียนสอบผ่านครบทุกคนหรือไม่\n",
    "- กำหนดคะแนน scores = [60, 75, 55, 40,35,10, 90]\n",
    "- กำหนดคะแนน scores = [60, 75, 55, 60,70,50, 90]\n",
    "- เกณฑ์: คะแนน >= 50 ถือว่าผ่าน\n",
    "- ถ้าสอบผ่านทั้งหมดให้โชว \"นักเรียนทุกคนสอบผ่าน\"\n",
    "- ถ้าสอบไม่ผ่านให้โชว \"มีนักเรียนบางคนสอบไม่ผ่าน ซึ่งคะแนนที่สอบไม่ผ่านมีดังนี้\n",
    "    - {score}\n",
    "    - {score}\""
   ]
  },
  {
   "cell_type": "code",
   "execution_count": null,
   "id": "47433305",
   "metadata": {},
   "outputs": [
    {
     "name": "stdout",
     "output_type": "stream",
     "text": [
      "นักเรียนที่สอบไม่ผ่านมีคะแนนดังนี้:\n",
      "- 40\n",
      "- 35\n",
      "- 10\n"
     ]
    }
   ],
   "source": [
    "scores = [60, 75, 55, 40,35,10, 90]    \n",
    "\n",
    "#scores = [60, 75, 55, 60,70,50, 90]\n",
    "\n",
    "all_pass =  True   \n",
    "failed_scores = []\n",
    "\n",
    "for score in scores:\n",
    "    if score < 50:\n",
    "        all_pass = False  \n",
    "        failed_scores.append(score)\n",
    "        \n",
    "if all_pass == True:\n",
    "    print(\"นักเรียนทุกคนสอบผ่าน\")\n",
    "else:\n",
    "    print(\"นักเรียนที่สอบไม่ผ่านมีคะแนนดังนี้:\")\n",
    "    for failed in failed_scores:\n",
    "        print(f\"- {failed}\")"
   ]
  },
  {
   "cell_type": "markdown",
   "id": "26152730",
   "metadata": {},
   "source": [
    "## 1.8 Function"
   ]
  },
  {
   "cell_type": "code",
   "execution_count": 7,
   "id": "2182625a",
   "metadata": {},
   "outputs": [],
   "source": [
    "def test():\n",
    "    \"\"\"for print hello world\"\"\"\n",
    "    print(\"hello world\")"
   ]
  },
  {
   "cell_type": "code",
   "execution_count": 8,
   "id": "9c8d2654",
   "metadata": {},
   "outputs": [
    {
     "name": "stdout",
     "output_type": "stream",
     "text": [
      "hello world\n"
     ]
    }
   ],
   "source": [
    "test()"
   ]
  },
  {
   "cell_type": "code",
   "execution_count": 16,
   "id": "44a9e529",
   "metadata": {},
   "outputs": [
    {
     "name": "stdout",
     "output_type": "stream",
     "text": [
      "7\n",
      "None\n"
     ]
    }
   ],
   "source": [
    "def calculation(input_1 , input_2):\n",
    "    \"\"\" plus 2 digit\"\"\"\n",
    "    print(input_1 + input_2)\n",
    "\n",
    "#calculation(3,4) \n",
    "#calculation(3,4) + 1 \n",
    "\n",
    "print(calculation(3,4))"
   ]
  },
  {
   "cell_type": "code",
   "execution_count": null,
   "id": "e4a3558c",
   "metadata": {},
   "outputs": [
    {
     "name": "stdout",
     "output_type": "stream",
     "text": [
      "7\n"
     ]
    }
   ],
   "source": [
    "def calculation(input_1 , input_2):\n",
    "    \"\"\" plus 2 digit\"\"\"\n",
    "    #print(input_1 + input_2)\n",
    "    return input_1 + input_2\n",
    "print(calculation(3,4))\n",
    "#calculation(3,4) + 1"
   ]
  },
  {
   "cell_type": "code",
   "execution_count": 24,
   "id": "7ed3de07",
   "metadata": {},
   "outputs": [
    {
     "name": "stdout",
     "output_type": "stream",
     "text": [
      "<class 'tuple'>\n",
      "(5, 'ok')\n",
      "15\n",
      "ok\n"
     ]
    }
   ],
   "source": [
    "def calculation(input_1 , input_2):\n",
    "    \"\"\" plus 2 digit\"\"\"\n",
    "    result = input_1 + input_2 \n",
    "    if result < 10:\n",
    "        msg = \"ok\"\n",
    "    else:\n",
    "        msg = \"ng\"\n",
    "    return result, msg\n",
    "\n",
    "print(type(calculation(2, 3)))\n",
    "print(calculation(2, 3))\n",
    "\n",
    "# +10  -> 15\n",
    "print(calculation(2, 3)[0] + 10)\n",
    "\n",
    "# OK \n",
    "print(calculation(2, 3)[1])"
   ]
  },
  {
   "cell_type": "code",
   "execution_count": 29,
   "id": "8e9fd076",
   "metadata": {},
   "outputs": [
    {
     "name": "stdout",
     "output_type": "stream",
     "text": [
      "(-1, 'ok')\n",
      "(1, 'ok')\n",
      "(-1, 'ok')\n",
      "(-1, 'ok')\n"
     ]
    }
   ],
   "source": [
    "def calculation(input_1 , input_2):\n",
    "    \"\"\" minus 2 digit\"\"\"\n",
    "    result = input_1 - input_2 \n",
    "    if result < 10:\n",
    "        msg = \"ok\"\n",
    "    else:\n",
    "        msg = \"ng\"\n",
    "    return result, msg\n",
    "\n",
    "print(calculation(3,4))\n",
    "print(calculation(4,3))\n",
    "\n",
    "print(calculation(input_1=3,input_2=4))\n",
    "print(calculation(input_2=4,input_1=3))"
   ]
  },
  {
   "cell_type": "code",
   "execution_count": 31,
   "id": "70f875ae",
   "metadata": {},
   "outputs": [
    {
     "name": "stdout",
     "output_type": "stream",
     "text": [
      "(-7, 'ok')\n",
      "(-1, 'ok')\n"
     ]
    }
   ],
   "source": [
    "def calculation(input_1 , input_2=10):\n",
    "    \"\"\" minus 2 digit\"\"\"\n",
    "    result = input_1 - input_2 \n",
    "    if result < 10:\n",
    "        msg = \"ok\"\n",
    "    else:\n",
    "        msg = \"ng\"\n",
    "    return result, msg\n",
    "\n",
    "print(calculation(3))\n",
    "print(calculation(3,4))"
   ]
  },
  {
   "cell_type": "markdown",
   "id": "3797852e",
   "metadata": {},
   "source": [
    "example \n",
    "ให้เขียนโปรแกรมคำนวณพื้นที่สามเหลี่ยม โดยทำงานดังนี้\n",
    "\n",
    "สร้างฟังก์ชัน area_rectangle(width, height) เพื่อหาพื้นที่สี่เหลี่ยมผืนผ้า\n",
    "\n",
    "สร้างฟังก์ชัน area_triangle(base, height) โดยในฟังก์ชันนี้ให้ เรียกใช้ area_rectangle แล้วหาร 2 เพื่อหาพื้นที่สามเหลี่ยม\n",
    "\n",
    "กำหนดค่า base = 6 และ height = 4 แล้วแสดงผลลัพธ์\n",
    "\n",
    "ต้องโชวดังนี้\n",
    "- ฐาน = 6\n",
    "- สูง = 4\n",
    "- พื้นที่สามเหลี่ยม = 12.0"
   ]
  },
  {
   "cell_type": "code",
   "execution_count": null,
   "id": "72c76889",
   "metadata": {},
   "outputs": [
    {
     "name": "stdout",
     "output_type": "stream",
     "text": [
      "- ฐาน = 6\n",
      "- สูง = 4\n",
      "- พื้นที่สามเหลี่ยม = 12.0\n"
     ]
    }
   ],
   "source": [
    "def area_rectangle(width,height):\n",
    "    \"\"\" calculate area of rectangle \"\"\"\n",
    "    return width * height\n",
    "\n",
    "def area_triangle(base,height):   \n",
    "    \"\"\" calculate area of triangle \"\"\"\n",
    "    rectangle_area = area_rectangle(base,height)\n",
    "    return rectangle_area/2\n",
    "\n",
    "base = 6 \n",
    "height = 4\n",
    "triangle_area =area_triangle(base,height)\n",
    "\n",
    "print(f\"- ฐาน = {base}\")\n",
    "print(f\"- สูง = {height}\")\n",
    "print(f\"- พื้นที่สามเหลี่ยม = {triangle_area}\")"
   ]
  },
  {
   "cell_type": "markdown",
   "id": "df0f317f",
   "metadata": {},
   "source": [
    "## 3.9 Module"
   ]
  },
  {
   "cell_type": "code",
   "execution_count": 35,
   "id": "53bf5a92",
   "metadata": {},
   "outputs": [],
   "source": [
    "import calculation"
   ]
  },
  {
   "cell_type": "code",
   "execution_count": 36,
   "id": "2531139f",
   "metadata": {},
   "outputs": [
    {
     "data": {
      "text/plain": [
       "(7, 'ok')"
      ]
     },
     "execution_count": 36,
     "metadata": {},
     "output_type": "execute_result"
    }
   ],
   "source": [
    "calculation.plus(3,4)"
   ]
  },
  {
   "cell_type": "code",
   "execution_count": 37,
   "id": "8ead8383",
   "metadata": {},
   "outputs": [
    {
     "data": {
      "text/plain": [
       "(1, 'ok')"
      ]
     },
     "execution_count": 37,
     "metadata": {},
     "output_type": "execute_result"
    }
   ],
   "source": [
    "calculation.minus(4,3)"
   ]
  },
  {
   "cell_type": "code",
   "execution_count": 38,
   "id": "7c654e74",
   "metadata": {},
   "outputs": [
    {
     "data": {
      "text/plain": [
       "(1, 'ok')"
      ]
     },
     "execution_count": 38,
     "metadata": {},
     "output_type": "execute_result"
    }
   ],
   "source": [
    "import calculation as cal \n",
    "cal.minus(4,3)"
   ]
  },
  {
   "cell_type": "code",
   "execution_count": 39,
   "id": "86172509",
   "metadata": {},
   "outputs": [
    {
     "data": {
      "text/plain": [
       "(7, 'ok')"
      ]
     },
     "execution_count": 39,
     "metadata": {},
     "output_type": "execute_result"
    }
   ],
   "source": [
    "cal.plus(3,4)"
   ]
  },
  {
   "cell_type": "code",
   "execution_count": null,
   "id": "29e71b50",
   "metadata": {},
   "outputs": [
    {
     "ename": "NameError",
     "evalue": "name 'minus' is not defined",
     "output_type": "error",
     "traceback": [
      "\u001b[31m---------------------------------------------------------------------------\u001b[39m",
      "\u001b[31mNameError\u001b[39m                                 Traceback (most recent call last)",
      "\u001b[36mCell\u001b[39m\u001b[36m \u001b[39m\u001b[32mIn[41]\u001b[39m\u001b[32m, line 4\u001b[39m\n\u001b[32m      1\u001b[39m \u001b[38;5;28;01mfrom\u001b[39;00m\u001b[38;5;250m \u001b[39m\u001b[34;01mcalculation\u001b[39;00m\u001b[38;5;250m \u001b[39m\u001b[38;5;28;01mimport\u001b[39;00m plus \n\u001b[32m      3\u001b[39m plus(\u001b[32m3\u001b[39m,\u001b[32m4\u001b[39m)\n\u001b[32m----> \u001b[39m\u001b[32m4\u001b[39m \u001b[43mminus\u001b[49m(\u001b[32m4\u001b[39m,\u001b[32m3\u001b[39m)\n",
      "\u001b[31mNameError\u001b[39m: name 'minus' is not defined"
     ]
    }
   ],
   "source": [
    "from calculation import plus \n",
    "\n",
    "plus(3,4)\n",
    "#minus(4,3)"
   ]
  },
  {
   "cell_type": "code",
   "execution_count": 42,
   "id": "e9d0e7a4",
   "metadata": {},
   "outputs": [
    {
     "data": {
      "text/plain": [
       "(1, 'ok')"
      ]
     },
     "execution_count": 42,
     "metadata": {},
     "output_type": "execute_result"
    }
   ],
   "source": [
    "from calculation import plus , minus \n",
    "\n",
    "minus(4,3)"
   ]
  },
  {
   "cell_type": "markdown",
   "id": "e2920560",
   "metadata": {},
   "source": [
    "## 3.10 Try except"
   ]
  },
  {
   "cell_type": "code",
   "execution_count": null,
   "id": "e19fd1a8",
   "metadata": {},
   "outputs": [
    {
     "ename": "ValueError",
     "evalue": "invalid literal for int() with base 10: '4D'",
     "output_type": "error",
     "traceback": [
      "\u001b[31m---------------------------------------------------------------------------\u001b[39m",
      "\u001b[31mValueError\u001b[39m                                Traceback (most recent call last)",
      "\u001b[36mCell\u001b[39m\u001b[36m \u001b[39m\u001b[32mIn[47]\u001b[39m\u001b[32m, line 1\u001b[39m\n\u001b[32m----> \u001b[39m\u001b[32m1\u001b[39m msg = \u001b[38;5;28;43mint\u001b[39;49m\u001b[43m(\u001b[49m\u001b[33;43m\"\u001b[39;49m\u001b[33;43m4D\u001b[39;49m\u001b[33;43m\"\u001b[39;49m\u001b[43m)\u001b[49m\n",
      "\u001b[31mValueError\u001b[39m: invalid literal for int() with base 10: '4D'"
     ]
    }
   ],
   "source": [
    "#msg = int(\"4D\")"
   ]
  },
  {
   "cell_type": "code",
   "execution_count": 45,
   "id": "bc5fc154",
   "metadata": {},
   "outputs": [
    {
     "name": "stdout",
     "output_type": "stream",
     "text": [
      "invalid literal for int() with base 10: '4D'\n"
     ]
    }
   ],
   "source": [
    "try:\n",
    "    msg = int(\"4D\")\n",
    "except ValueError as e :\n",
    "    print(e)"
   ]
  },
  {
   "cell_type": "markdown",
   "id": "e8220d14",
   "metadata": {},
   "source": [
    "Example1\n",
    "\n",
    "convert to celsius\n",
    "\n",
    "-input ใส่ค่าอุณหภูมิ , fahrenhite,kelvin\n",
    "- สูตรคำนวน (degrees-32)*(5/9) # fahrenhite\n",
    "- สูตรคำนวน degrees -273.15 # kelvin\n",
    "- ถ้าใส่ค่านอกเหนือจาก fahrenhite,kelvin โปรแกรมจะบอกว่า  ไม่รุ้จักค่านี้ให้ใส่ค่าใหม่\n",
    "- ถ้าไม่ใส่หน่วยอุณหภูมิให้โปรแกรมคิดว่า fahrenhite\n",
    "\n",
    "print(convert_to_celsius(100))\n",
    "\n",
    "print(convert_to_celsius(100,'kelvin'))\n",
    "\n",
    "print(convert_to_celsius(100,'Kelvin'))\n",
    "\n",
    "print(convert_to_celsius(100,'Fahrenhite'))\n",
    "\n",
    "print(convert_to_celsius(100,'qwqe'))\n",
    "\n",
    "print(convert_to_celsius('100','kelvin'))\n",
    "\n",
    "print(convert_to_celsius('100.13','kelvin'))\n",
    "\n",
    "print(convert_to_celsius('sdfsdf','kelvin'))\n",
    "\n",
    "\n",
    "37.78\n",
    "\n",
    "-173.15\n",
    "\n",
    "-173.15\n",
    "\n",
    "37.78\n",
    "\n",
    "Don't know source: qwqe\n",
    "\n",
    "-173.15\n",
    "\n",
    "-173.02\n"
   ]
  }
 ],
 "metadata": {
  "kernelspec": {
   "display_name": "python_office",
   "language": "python",
   "name": "python3"
  },
  "language_info": {
   "codemirror_mode": {
    "name": "ipython",
    "version": 3
   },
   "file_extension": ".py",
   "mimetype": "text/x-python",
   "name": "python",
   "nbconvert_exporter": "python",
   "pygments_lexer": "ipython3",
   "version": "3.12.0"
  }
 },
 "nbformat": 4,
 "nbformat_minor": 5
}
