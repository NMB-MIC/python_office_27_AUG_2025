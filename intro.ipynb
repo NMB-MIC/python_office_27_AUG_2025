{
 "cells": [
  {
   "cell_type": "markdown",
   "id": "be699b91",
   "metadata": {},
   "source": [
    "# Test run Jupyter"
   ]
  },
  {
   "cell_type": "markdown",
   "id": "e360243b",
   "metadata": {},
   "source": [
    "# Test\n",
    "## Test\n",
    "### Test\n",
    "#### Test\n",
    "test\n",
    "\n",
    "\n",
    "- bullet\n",
    "- bullet\n",
    "  - sub bullet\n",
    "    - sub2 bullet"
   ]
  },
  {
   "cell_type": "code",
   "execution_count": 1,
   "id": "d3dbc243",
   "metadata": {},
   "outputs": [
    {
     "name": "stdout",
     "output_type": "stream",
     "text": [
      "Hello world\n"
     ]
    }
   ],
   "source": [
    "print(\"Hello world\")"
   ]
  },
  {
   "cell_type": "code",
   "execution_count": 2,
   "id": "a7e327dc",
   "metadata": {},
   "outputs": [
    {
     "name": "stdout",
     "output_type": "stream",
     "text": [
      "hello world2\n"
     ]
    }
   ],
   "source": [
    "print(\"hello world2\")"
   ]
  }
 ],
 "metadata": {
  "kernelspec": {
   "display_name": "python_office",
   "language": "python",
   "name": "python3"
  },
  "language_info": {
   "codemirror_mode": {
    "name": "ipython",
    "version": 3
   },
   "file_extension": ".py",
   "mimetype": "text/x-python",
   "name": "python",
   "nbconvert_exporter": "python",
   "pygments_lexer": "ipython3",
   "version": "3.12.0"
  }
 },
 "nbformat": 4,
 "nbformat_minor": 5
}
